{
  "nbformat": 4,
  "nbformat_minor": 0,
  "metadata": {
    "colab": {
      "provenance": []
    },
    "kernelspec": {
      "name": "python3",
      "display_name": "Python 3"
    },
    "language_info": {
      "name": "python"
    }
  },
  "cells": [
    {
      "cell_type": "code",
      "source": [
        "!pip install -q  requests beautifulsoup4 lxml  langchain-google-genai langgraph langchain google-generativeai google-api-python-client google-auth-httplib2 google-auth-oauthlib google-genai\n",
        "\n"
      ],
      "metadata": {
        "colab": {
          "base_uri": "https://localhost:8080/"
        },
        "id": "IdY4wWH1BSOE",
        "outputId": "f0522ef3-2323-4ab3-f0dc-6b90cfad13f3"
      },
      "execution_count": 1,
      "outputs": [
        {
          "output_type": "stream",
          "name": "stdout",
          "text": [
            "\u001b[2K     \u001b[90m━━━━━━━━━━━━━━━━━━━━━━━━━━━━━━━━━━━━━━━━\u001b[0m \u001b[32m43.5/43.5 kB\u001b[0m \u001b[31m1.2 MB/s\u001b[0m eta \u001b[36m0:00:00\u001b[0m\n",
            "\u001b[2K   \u001b[90m━━━━━━━━━━━━━━━━━━━━━━━━━━━━━━━━━━━━━━━━\u001b[0m \u001b[32m42.0/42.0 kB\u001b[0m \u001b[31m825.2 kB/s\u001b[0m eta \u001b[36m0:00:00\u001b[0m\n",
            "\u001b[2K   \u001b[90m━━━━━━━━━━━━━━━━━━━━━━━━━━━━━━━━━━━━━━━━\u001b[0m \u001b[32m151.2/151.2 kB\u001b[0m \u001b[31m6.0 MB/s\u001b[0m eta \u001b[36m0:00:00\u001b[0m\n",
            "\u001b[2K   \u001b[90m━━━━━━━━━━━━━━━━━━━━━━━━━━━━━━━━━━━━━━━━\u001b[0m \u001b[32m42.3/42.3 kB\u001b[0m \u001b[31m1.8 MB/s\u001b[0m eta \u001b[36m0:00:00\u001b[0m\n",
            "\u001b[2K   \u001b[90m━━━━━━━━━━━━━━━━━━━━━━━━━━━━━━━━━━━━━━━━\u001b[0m \u001b[32m48.9/48.9 kB\u001b[0m \u001b[31m1.5 MB/s\u001b[0m eta \u001b[36m0:00:00\u001b[0m\n",
            "\u001b[2K   \u001b[90m━━━━━━━━━━━━━━━━━━━━━━━━━━━━━━━━━━━━━━━━\u001b[0m \u001b[32m223.6/223.6 kB\u001b[0m \u001b[31m7.1 MB/s\u001b[0m eta \u001b[36m0:00:00\u001b[0m\n",
            "\u001b[?25h"
          ]
        }
      ]
    },
    {
      "cell_type": "code",
      "source": [
        "from langchain.prompts import PromptTemplate\n",
        "import os\n",
        "import json\n",
        "import requests\n",
        "from bs4 import BeautifulSoup\n",
        "from datetime import datetime, timedelta\n",
        "from langchain_google_genai import ChatGoogleGenerativeAI\n",
        "from google.oauth2 import service_account\n",
        "from googleapiclient.discovery import build\n",
        "from urllib.parse import urljoin"
      ],
      "metadata": {
        "id": "MMBbCwGZkIEO"
      },
      "execution_count": 10,
      "outputs": []
    },
    {
      "cell_type": "code",
      "source": [
        "from google.colab import drive\n",
        "drive.mount('/content/drive')\n"
      ],
      "metadata": {
        "colab": {
          "base_uri": "https://localhost:8080/"
        },
        "id": "uVjwWTAfm0KJ",
        "outputId": "8d390659-dc21-45f3-f80a-5314a6186844"
      },
      "execution_count": 21,
      "outputs": [
        {
          "output_type": "stream",
          "name": "stdout",
          "text": [
            "Mounted at /content/drive\n"
          ]
        }
      ]
    },
    {
      "cell_type": "code",
      "source": [
        "# Config\n",
        "os.environ[\"GOOGLE_API_KEY\"] = ********\n",
        "OEIL_URL            = \"https://oeil.secure.europarl.europa.eu/oeil/en/search\"\n",
        "SERVICE_ACCOUNT_FILE= \"/content/drive/MyDrive/gen-lang-client-0687351699-a445369d8c4f.json\"\n",
        "SHEET_ID            = \"1jlRfCX1iYsSOrkixGy5mPsuBpKkv-ObAvQfEgrgS_Cs\"\n",
        "TASKLIST_ID         = \"@default\"\n",
        "\n",
        "\n",
        "llm = ChatGoogleGenerativeAI(model=\"gemini-2.0-flash\")"
      ],
      "metadata": {
        "id": "XeiQMaNpe1hY"
      },
      "execution_count": 22,
      "outputs": []
    },
    {
      "cell_type": "code",
      "source": [
        "def fetch_html_for_date(date: datetime) -> str:\n",
        "    ds = date.strftime(\"%Y%m%d\")\n",
        "    print(f\"[DEBUG] fetch_html_for_date → sessionDay.day={ds}\")\n",
        "    r = requests.get(\n",
        "        OEIL_URL,\n",
        "        params={\n",
        "            \"sessionDay.allDays\": \"false\",\n",
        "            \"sessionDay.day\": ds,\n",
        "            \"sessionDay.type\": \"ALL\"\n",
        "        },\n",
        "        headers={\"User-Agent\": \"Mozilla/5.0\"}\n",
        "    )\n",
        "    print(f\"[DEBUG]   Status Code: {r.status_code}\")\n",
        "    html = r.text\n",
        "    print(f\"[DEBUG]   HTML length: {len(html)} caractères\")\n",
        "    print(f\"[DEBUG]   HTML preview:\\n{html[:20000]!r}\\n\")\n",
        "\n",
        "    return html"
      ],
      "metadata": {
        "id": "xoYBS0yskmWf"
      },
      "execution_count": 12,
      "outputs": []
    },
    {
      "cell_type": "code",
      "source": [
        "def parse_procedures(html: str) -> list[dict]:\n",
        "    \"\"\"Parse le HTML et retourne la liste des procédures, y compris la description.\"\"\"\n",
        "    soup = BeautifulSoup(html, \"lxml\")\n",
        "    items = []\n",
        "    for wrapper in soup.select(\"div.erpl_document-wrapper\"):\n",
        "        ref_tag     = wrapper.select_one(\"h3 span.t-item\")\n",
        "        title_tag   = wrapper.select_one(\"h3.erpl_document-title a.t-y\")\n",
        "        desc_tag    = wrapper.select_one(\"div.erpl_document-body p\")\n",
        "        comm_tag    = wrapper.select_one(\"span.erpl_badge-committee\")\n",
        "        rap_tag     = wrapper.select_one(\"span.erpl_document-subtitle-author\")\n",
        "        pdf_tag     = wrapper.select_one(\"a.erpl_document-subtitle-pdf\")\n",
        "        date_tag     = wrapper.select_one(\"div.mt-1 p\")\n",
        "\n",
        "\n",
        "        items.append({\n",
        "            \"reference\":   ref_tag.get_text(strip=True) if ref_tag else \"\",\n",
        "            \"title\":       title_tag.get_text(strip=True) if title_tag else \"\",\n",
        "            \"description\": desc_tag.get_text(strip=True) if desc_tag else \"\",\n",
        "            \"committee\":   comm_tag.get_text(strip=True) if comm_tag else \"\",\n",
        "            \"rapporteur\":  rap_tag.get_text(strip=True) if rap_tag else \"\",\n",
        "            \"pdf\":         pdf_tag[\"href\"] if pdf_tag else \"\",\n",
        "            \"date\":        date_tag.get_text(strip=True) if date_tag else \"\",\n",
        "        })\n",
        "    return items"
      ],
      "metadata": {
        "id": "tN4VYaVSkjAP"
      },
      "execution_count": 23,
      "outputs": []
    },
    {
      "cell_type": "code",
      "source": [
        "items"
      ],
      "metadata": {
        "colab": {
          "base_uri": "https://localhost:8080/"
        },
        "id": "NgIgG-cNqtN4",
        "outputId": "1b9b3c43-d113-4493-de1f-b5eaa0549c02"
      },
      "execution_count": 24,
      "outputs": [
        {
          "output_type": "execute_result",
          "data": {
            "text/plain": [
              "[{'reference': '2025/0044(COD)\\n                    ***ILegal Affairs',\n",
              "  'title': '2025/0044(COD)\\n                    ***ILegal Affairs',\n",
              "  'description': 'Certain corporate sustainability reporting and due diligence requirements: application dates',\n",
              "  'committee': 'Legal Affairs',\n",
              "  'rapporteur': '',\n",
              "  'pdf': '/oeil/en/procedure-file/pdf?reference=2025/0044(COD)'},\n",
              " {'reference': '2024/2111(BUI)Budgets',\n",
              "  'title': '2024/2111(BUI)Budgets',\n",
              "  'description': '2026 budget: estimates of revenue and expenditure, Section I – European Parliament',\n",
              "  'committee': 'Budgets',\n",
              "  'rapporteur': 'NEMEC Matjaž (S&D)',\n",
              "  'pdf': '/oeil/en/procedure-file/pdf?reference=2024/2111(BUI)'},\n",
              " {'reference': '2025/2640(RSP)',\n",
              "  'title': '2025/2640(RSP)',\n",
              "  'description': 'Health care related tourism: protecting EU patients abroad',\n",
              "  'committee': '',\n",
              "  'rapporteur': '',\n",
              "  'pdf': '/oeil/en/procedure-file/pdf?reference=2025/2640(RSP)'},\n",
              " {'reference': '2025/2639(RSP)',\n",
              "  'title': '2025/2639(RSP)',\n",
              "  'description': '110th anniversary of the Armenian genocide',\n",
              "  'committee': '',\n",
              "  'rapporteur': '',\n",
              "  'pdf': '/oeil/en/procedure-file/pdf?reference=2025/2639(RSP)'},\n",
              " {'reference': '2025/2638(RSP)',\n",
              "  'title': '2025/2638(RSP)',\n",
              "  'description': 'Establishment of a European Day of the Righteous',\n",
              "  'committee': '',\n",
              "  'rapporteur': '',\n",
              "  'pdf': '/oeil/en/procedure-file/pdf?reference=2025/2638(RSP)'},\n",
              " {'reference': '2025/2637(RSP)',\n",
              "  'title': '2025/2637(RSP)',\n",
              "  'description': 'European Action Plan on Rare Diseases',\n",
              "  'committee': '',\n",
              "  'rapporteur': '',\n",
              "  'pdf': '/oeil/en/procedure-file/pdf?reference=2025/2637(RSP)'},\n",
              " {'reference': '2025/2629(RSP)',\n",
              "  'title': '2025/2629(RSP)',\n",
              "  'description': 'Resolution on the immediate risk of further repression by Lukashenka’s regime in Belarus - threats from the Investigative Committee',\n",
              "  'committee': '',\n",
              "  'rapporteur': '',\n",
              "  'pdf': '/oeil/en/procedure-file/pdf?reference=2025/2629(RSP)'},\n",
              " {'reference': '2025/2628(RSP)',\n",
              "  'title': '2025/2628(RSP)',\n",
              "  'description': 'Resolution on the execution spree in Iran and the confirmation of the death sentences of activists Behrouz Ehsani and Mehdi Hassani',\n",
              "  'committee': '',\n",
              "  'rapporteur': '',\n",
              "  'pdf': '/oeil/en/procedure-file/pdf?reference=2025/2628(RSP)'},\n",
              " {'reference': '2025/2627(RSP)',\n",
              "  'title': '2025/2627(RSP)',\n",
              "  'description': 'Resolution on the prosecution of journalists in Cameroon, notably the cases of Amadou Vamoulké, Kingsley Fomunyuy Njoka, Mancho Bibixy, Thomas Awah Junior, Tsi Conrad',\n",
              "  'committee': '',\n",
              "  'rapporteur': '',\n",
              "  'pdf': '/oeil/en/procedure-file/pdf?reference=2025/2627(RSP)'},\n",
              " {'reference': '2025/2612(RSP)',\n",
              "  'title': '2025/2612(RSP)',\n",
              "  'description': 'Resolution on the targeted attacks against Christians in the Democratic Republic of the Congo: defending religious freedom and security',\n",
              "  'committee': '',\n",
              "  'rapporteur': '',\n",
              "  'pdf': '/oeil/en/procedure-file/pdf?reference=2025/2612(RSP)'},\n",
              " {'reference': '2025/2536(RSP)Industry, Research and Energy',\n",
              "  'title': '2025/2536(RSP)Industry, Research and Energy',\n",
              "  'description': 'Resolution on energy-intensive industries',\n",
              "  'committee': 'Industry, Research and Energy',\n",
              "  'rapporteur': 'GORI Giorgio (S&D)',\n",
              "  'pdf': '/oeil/en/procedure-file/pdf?reference=2025/2536(RSP)'}]"
            ]
          },
          "metadata": {},
          "execution_count": 24
        }
      ]
    },
    {
      "cell_type": "code",
      "source": [
        "def is_sustainable(item: dict) -> bool:\n",
        "    prompt = f\"\"\"\n",
        "Est-ce que ce document législatif concerne directement la durabilité\n",
        "(environnement, économie circulaire, pollution…)? Réponds strictement “yes” ou “no”.\n",
        "\n",
        "Title: {item['title']}\n",
        "Description: {item['description']}\n",
        "Committee: {item['committee']}\n",
        "\"\"\"\n",
        "    response = llm.invoke(prompt)\n",
        "    content  = getattr(response, \"content\", response).strip()\n",
        "\n",
        "    try:\n",
        "        data   = json.loads(content)\n",
        "        answer = data.get(\"answer\", \"\").lower()\n",
        "    except json.JSONDecodeError:\n",
        "        answer = content.lower()\n",
        "    return answer == \"yes\"\n"
      ],
      "metadata": {
        "id": "uRDo3_zPkf-c"
      },
      "execution_count": 25,
      "outputs": []
    },
    {
      "cell_type": "code",
      "source": [
        "def sheets_service():\n",
        "    creds = service_account.Credentials.from_service_account_file(\n",
        "        SERVICE_ACCOUNT_FILE,\n",
        "        scopes=[\"https://www.googleapis.com/auth/spreadsheets\"]\n",
        "    )\n",
        "    return build(\"sheets\", \"v4\", credentials=creds)\n",
        "\n",
        "\n",
        "\n",
        "BASE_URL = \"https://oeil.secure.europarl.europa.eu/\"\n",
        "\n",
        "def append_to_sheet(items: list[dict],hier: datetime):\n",
        "    srv = sheets_service()\n",
        "\n",
        "    headers = [[\"Reference Number\", \"Committee\", \"Rapporteur\", \"Title/Description\",\"Description\" ,\"PDF Link\",\"Date\"]]\n",
        "    srv.spreadsheets().values().update(\n",
        "        spreadsheetId=SHEET_ID,\n",
        "        range=\"'Feuille 1'!A1:G1\",\n",
        "        valueInputOption=\"RAW\",\n",
        "        body={\"values\": headers}\n",
        "    ).execute()\n",
        "\n",
        "\n",
        "    values = []\n",
        "    for it in items:\n",
        "        pdf_full = urljoin(BASE_URL, it[\"pdf\"])\n",
        "        values.append([\n",
        "            it[\"reference\"],\n",
        "            it[\"committee\"],\n",
        "            it[\"rapporteur\"],\n",
        "            it[\"title\"],\n",
        "            it[\"description\"],\n",
        "            pdf_full,\n",
        "            hier.strftime(\"%d/%m/%Y\")\n",
        "\n",
        "        ])\n",
        "\n",
        "\n",
        "    srv.spreadsheets().values().append(\n",
        "        spreadsheetId=SHEET_ID,\n",
        "        range=\"'Feuille 1'!A2:E\",\n",
        "        valueInputOption=\"RAW\",\n",
        "        insertDataOption=\"INSERT_ROWS\",\n",
        "        body={\"values\": values}\n",
        "    ).execute()"
      ],
      "metadata": {
        "id": "LRB77mAbkb8R"
      },
      "execution_count": 47,
      "outputs": []
    },
    {
      "cell_type": "code",
      "source": [
        "\n",
        "def tasks_service():\n",
        "\n",
        "    creds = service_account.Credentials.from_service_account_file(\n",
        "        SERVICE_ACCOUNT_FILE,\n",
        "        scopes=[\"https://www.googleapis.com/auth/tasks\"]\n",
        "    )\n",
        "    return build(\"tasks\", \"v1\", credentials=creds)\n",
        "\n",
        "\n",
        "\n",
        "\n",
        "def create_tasks(items: list[dict]):\n",
        "    hier = (datetime.utcnow() - timedelta(days=1)).date()\n",
        "    srv = tasks_service()\n",
        "    tomorrow = (datetime.utcnow() + timedelta(days=1)).isoformat() + \"Z\"\n",
        "    for it in items:\n",
        "        pdf_full = urljoin(BASE_URL, it[\"pdf\"])\n",
        "        srv.tasks().insert(\n",
        "            tasklist=TASKLIST_ID,\n",
        "            body={\n",
        "                \"title\": f\"Étudier {it['reference']}\",\n",
        "                \"notes\": (\n",
        "                    f\"Titre       : {it['title']}\\n\"\n",
        "                    f\"Commission  : {it['committee']}\\n\"\n",
        "                    f\"Rapporteur  : {it['rapporteur']}\\n\"\n",
        "                    f\"PDF Link    : {pdf_full}\"\n",
        "                    f\"Description : {it['description']}\"\n",
        "                    f\"Date        : {hier}\"\n",
        "                ),\n",
        "                \"due\": tomorrow,\n",
        "            }\n",
        "        ).execute()"
      ],
      "metadata": {
        "id": "Pjcv-Up2kYAI"
      },
      "execution_count": 31,
      "outputs": []
    },
    {
      "cell_type": "code",
      "source": [
        "def main():\n",
        "    hier      = datetime.utcnow() - timedelta(days=1)\n",
        "    html      = fetch_html_for_date(hier)\n",
        "    all_items = parse_procedures(html)\n",
        "    for it in parse_procedures(html):\n",
        "      print(\"—\", it[\"reference\"], \"|\", it[\"title\"])\n",
        "      print(\"  Description:\", it[\"description\"][:100], \"…\\n\")\n",
        "\n",
        "    sus = []\n",
        "    for item in all_items:\n",
        "        if is_sustainable(item):\n",
        "            sus.append(item)\n",
        "\n",
        "    print(f\"[DEBUG] main → {len(sus)} procédures retenues après filtre sustainability\")\n",
        "    append_to_sheet(sus,hier)\n",
        "    create_tasks(sus)\n",
        "    return sus\n",
        "\n",
        "if __name__ == \"__main__\":\n",
        "    main()"
      ],
      "metadata": {
        "colab": {
          "base_uri": "https://localhost:8080/"
        },
        "id": "RQMihHkjjYtz",
        "outputId": "3563e574-0610-4b13-9ef3-8b97d22d3243"
      },
      "execution_count": 38,
      "outputs": [
        {
          "output_type": "stream",
          "name": "stdout",
          "text": [
            "[DEBUG] fetch_html_for_date → sessionDay.day=20250514\n",
            "[DEBUG]   Status Code: 200\n",
            "[DEBUG]   HTML length: 60232 caractères\n",
            "[DEBUG]   HTML preview:\n",
            "'<!doctype html>\\n<html lang=\"en\">\\n\\n\\n<head>\\n\\n    \\n    <title>Search | Legislative Observatory | European Parliament</title>\\n\\n    <!-- Required meta tags -->\\n    <meta charset=\"utf-8\">\\n    <meta content=\"@project.version@\" name=\"project_version\"/>\\n    <meta content=\"@build.number@\" name=\"build_number\"/>\\n    <meta content=\"@build.time@\" name=\"build_time\"/>\\n\\n    <!-- Commons meta tags -->\\n    <meta content=\"https://www.europarl.europa.eu\">\\n    <meta name=\"viewport\" content=\"width=device-width, initial-scale=1, shrink-to-fit=no\">\\n    <meta content=\"IE=edge\" http-equiv=\"X-UA-Compatible\">\\n    <meta content=\"no-cache\" http-equiv=\"cache-control\">\\n    <meta content=\"-1\" http-equiv=\"expires\">\\n    <meta content=\"no-cache\" http-equiv=\"pragma\">\\n    <meta content=\"text/html; charset=UTF-8\" http-equiv=\"Content-Type\">\\n    <meta content=\"en\" name=\"language\">\\n    <meta content=\"en\" http-equiv=\"Content-Language\">\\n    <meta content=\"European Parliament Legislative Observatory Procedure\" name=\"description\">\\n    <meta content=\"index, follow, noodp, noydir, notranslate, noarchive\" name=\"robots\">\\n    <meta content=\"European Union, 2025 - Source: European Parliament\" name=\"copyright\">\\n    <meta content=\"Legislative Observatory\" name=\"planet\">\\n    <meta content=\"15-05-2025\" name=\"available\">\\n\\n    <!-- Dynamics meta tags -->\\n    \\n        <meta content=\"OEIL, Legislative Observatory, Observatoire législatif\" name=\"keywords\">\\n    \\n\\n    <!-- HTML <link> tags -->\\n    <link rel=\"icon\" href=\"https://www.europarl.europa.eu/commonFrontResources/evostrap/6.2.0//lib/assets/img/favicon.ico\">\\n\\n    \\n    <link href=\"https://www.europarl.europa.eu/commonFrontResources/evostrap/6.2.0//lib/dist/css/evostrap.css\" rel=\"stylesheet\">\\n    <link href=\"https://www.europarl.europa.eu/commonFrontResources/evostrap-oeil/1.0.0//dist/css/oeil.css\" rel=\"stylesheet\">\\n</head>\\n\\n<body id=\"main-content\" data-app-context=\"/oeil/\">\\n\\n    <header class=\"erpl_header\">\\n    <nav class=\"erpl_wai-access\" aria-label=\"Shortcuts\">\\n        <ul>\\n            <li> <a href=\"#website-body\" class=\"erpl_smooth-scroll\"> <span class=\"btn btn-primary\">Access to page content (press &quot;Enter&quot;)</span> </a> </li>\\n            <li> <a href=\"#languageSelectorDropdownButton\" class=\"erpl_smooth-scroll\"> <span class=\"btn btn-primary\">Direct access to language menu (press &quot;Enter&quot;)</span> </a> </li>\\n\\n            <li> <a href=\"#mainSearch\" class=\"erpl_smooth-scroll\"> <span class=\"btn btn-primary\">Direct access to search menu (press &quot;Enter&quot;)</span> </a> </li>\\n        </ul>\\n    </nav>\\n\\n    \\n    <div class=\"erpl_header-top border-bottom mb-3 mb-xl-4 a-i\">\\n        <div class=\"container\">\\n            <div class=\"row no-gutters\">\\n                <div class=\"col-auto\"><div class=\"erpl_header-language-selector\">\\n    <div class=\"erpl_dropdown\" data-auto-close=\"true\" data-auto-focus=\"true\" data-position=\"absolute\"\\n         data-content-width=\"auto\">\\n        <button class=\"erpl_dropdown-btn input-group collapsed\" type=\"button\" data-toggle=\"collapse\"\\n                id=\"languageSelectorDropdownButton\"\\n                data-target=\"#languageSelectorDropdownContent\"\\n                aria-expanded=\"false\"\\n                aria-controls=\"languageSelectorDropdownContent\">\\n            <span class=\"value form-control\">EN - English</span>\\n            \\n            <span class=\"input-group-append\">\\n                <span class=\"input-group-icon\">\\n                    <svg aria-hidden=\"true\" class=\"es_icon es_icon-arrow\" data-show-expanded=\"false\">\\n                        <use xlink:href=\"#es_icon-arrow\"></use>\\n                    </svg>\\n                    <svg aria-hidden=\"true\" class=\"es_icon es_icon-arrow es_icon-flip-y text-primary\"\\n                         data-show-expanded=\"true\">\\n                        <use xlink:href=\"#es_icon-arrow\"></use>\\n                    </svg>\\n                </span>\\n            </span>\\n        </button>\\n\\n        <div>\\n            <div class=\"erpl_dropdown-content collapse\" id=\"languageSelectorDropdownContent\">\\n                <div class=\"border border-light\">\\n                    <div>\\n                        <ul class=\"erpl_topbar-list list-unstyled erpl_dropdown-menu\">\\n                            <li class=\"t-x-block\" data-selected=\"false\">\\n                                <!-- localized version URL is here -->\\n                                <a class=\"erpl_dropdown-menu-item\"\\n                                   lang=\"fr\"\\n                                   href=\"https://oeil.secure.europarl.europa.eu/oeil/fr/search?sessionDay.allDays=false&amp;sessionDay.day=20250514&amp;sessionDay.type=ALL\">\\n                                    \\n                                    <span class=\"t-item\">FR - français</span>\\n                                </a>\\n                            </li>\\n                            <li class=\"t-x-block\" data-selected=\"true\">\\n                                <!-- localized version URL is here -->\\n                                <a class=\"erpl_dropdown-menu-item\"\\n                                   lang=\"en\"\\n                                   href=\"https://oeil.secure.europarl.europa.eu/oeil/en/search?sessionDay.allDays=false&amp;sessionDay.day=20250514&amp;sessionDay.type=ALL\">\\n                                    <span class=\"t-item\">EN - English</span>\\n                                    \\n                                </a>\\n                            </li>\\n                        </ul>\\n                    </div>\\n                </div>\\n            </div>\\n        </div>\\n    </div>\\n</div></div>\\n                <div class=\"col\">\\n                    <nav class=\"erpl_header-other-websites d-flex justify-content-end align-items-center\" aria-label=\"Other websites\">\\n                        <ul class=\"d-flex list-unstyled\">\\n\\n                            \\n                            <li class=\"d-none d-xl-block\">\\n                                <a class=\"d-xl-flex px-1 align-items-center t-y-block\" href=\"https://www.europarl.europa.eu/news/en\">\\n                                    <span class=\"t-item\">News</span>\\n                                </a>\\n                            </li>\\n\\n                            \\n                            <li class=\"d-none d-xl-block\">\\n                                <a class=\"d-xl-flex px-1 align-items-center t-y-block\" href=\"https://www.europarl.europa.eu/topics/en\">\\n                                    <span class=\"t-item\">Topics</span>\\n                                </a>\\n                            </li>\\n\\n                            \\n                            <li class=\"d-none d-xl-block\">\\n                                <a class=\"d-xl-flex px-1 align-items-center t-y-block\" href=\"https://www.europarl.europa.eu/meps/en\">\\n                                    <span class=\"t-item\">MEPs</span>\\n                                </a>\\n                            </li>\\n\\n                            \\n                            <li class=\"d-none d-xl-block\">\\n                                <a class=\"d-xl-flex px-1 align-items-center t-y-block\" href=\"https://www.europarl.europa.eu/about-parliament/en\">\\n                                    <span class=\"t-item\">About Parliament</span>\\n                                </a>\\n                            </li>\\n\\n                            \\n                            <li class=\"d-none d-xl-block\">\\n                                <a class=\"d-xl-flex px-1 align-items-center t-y-block\" href=\"https://www.europarl.europa.eu/plenary/en\">\\n                                    <span class=\"t-item\">Plenary</span>\\n                                </a>\\n                            </li>\\n\\n                            \\n                            <li class=\"d-none d-xl-block\">\\n                                <a class=\"d-xl-flex px-1 align-items-center t-y-block\" href=\"https://www.europarl.europa.eu/committees/en\">\\n                                    <span class=\"t-item\">Committees</span>\\n                                </a>\\n                            </li>\\n\\n                            \\n                            <li class=\"d-none d-xl-block\">\\n                                <a class=\"d-xl-flex px-1 align-items-center t-y-block\" href=\"https://www.europarl.europa.eu/delegations/en\">\\n                                    <span class=\"t-item\">Delegations</span>\\n                                </a>\\n                            </li>\\n\\n                            \\n                            <li class=\"d-none d-xl-block\">\\n                                <a class=\"d-xl-flex px-1 align-items-center t-y-block\" href=\"https://elections.europa.eu/en/\">\\n                                    <span class=\"t-item\">Elections</span>\\n                                </a>\\n                            </li>\\n\\n\\n                            <li class=\"erpl_dropdown\" data-auto-close=\"true\" data-auto-focus=\"true\" data-position=\"absolute\">\\n                               <button class=\"erpl_dropdown-btn input-group collapsed d-xl-flex pl-1 align-items-center t-y-block flex-nowrap\"\\n                                       data-toggle=\"collapse\"\\n                                       data-target=\"#otherWebsiteSubmenu\"\\n                                       aria-expanded=\"false\"\\n                                       aria-controls=\"otherWebsiteSubmenu\" aria-label=\"More other websites\">\\n                                    <span class=\"value\">\\n\\t\\t\\t\\t\\t\\t\\t\\t\\t\\t\\t<span class=\"d-none d-xl-inline\">Other websites</span>\\n\\t\\t\\t\\t\\t\\t\\t\\t\\t\\t\\t<span class=\"d-xl-none\">View other websites</span>\\n                                    </span>\\n                                   <span class=\"input-group-append\">\\n\\t\\t\\t\\t\\t\\t\\t\\t\\t\\t\\t<span class=\"input-group-icon\">\\n\\t\\t\\t\\t\\t\\t\\t\\t\\t\\t\\t\\t<svg aria-hidden=\"true\" class=\"es_icon es_icon-arrow\" data-show-expanded=\"false\">\\n\\t\\t\\t\\t\\t\\t\\t\\t\\t\\t\\t\\t\\t<use xlink:href=\"#es_icon-arrow\"></use>\\n\\t\\t\\t\\t\\t\\t\\t\\t\\t\\t\\t\\t</svg>\\n\\n\\t\\t\\t\\t\\t\\t\\t\\t\\t\\t\\t\\t<svg aria-hidden=\"true\" class=\"es_icon es_icon-arrow es_icon-flip-y text-primary\" data-show-expanded=\"true\">\\n\\t\\t\\t\\t\\t\\t\\t\\t\\t\\t\\t\\t\\t<use xlink:href=\"#es_icon-arrow\"></use>\\n\\t\\t\\t\\t\\t\\t\\t\\t\\t\\t\\t\\t</svg>\\n\\t\\t\\t\\t\\t\\t\\t\\t\\t\\t\\t</span>\\n\\t\\t\\t\\t\\t\\t\\t\\t\\t\\t</span>\\n                                </button>\\n                                <div>\\n                                    <div id=\"otherWebsiteSubmenu\" class=\"erpl_dropdown-content collapse\">\\n                                        <ul class=\"erpl_header-other-websites-submenu list-unstyled erpl_dropdown-menu\">\\n                                            \\n                                            <li class=\"d-xl-none t-x-block\">\\n                                                <a class=\"erpl_dropdown-menu-item\" href=\"https://www.europarl.europa.eu/news/en\">\\n                                                    <span class=\"t-item\">News</span>\\n                                                </a>\\n                                            </li>\\n                                            \\n                                            <li class=\"d-xl-none t-x-block\">\\n                                                <a class=\"erpl_dropdown-menu-item\" href=\"https://www.europarl.europa.eu/topics/en\">\\n                                                    <span class=\"t-item\">Topics</span>\\n                                                </a>\\n                                            </li>\\n                                            \\n                                            <li class=\"d-xl-none t-x-block\">\\n                                                <a class=\"erpl_dropdown-menu-item\" href=\"https://www.europarl.europa.eu/meps/en\">\\n                                                    <span class=\"t-item\">MEPs</span>\\n                                                </a>\\n                                            </li>\\n                                            \\n                                            <li class=\"d-xl-none t-x-block\">\\n                                                <a class=\"erpl_dropdown-menu-item\" href=\"https://www.europarl.europa.eu/about-parliament/en\">\\n                                                    <span class=\"t-item\">About Parliament</span>\\n                                                </a>\\n                                            </li>\\n                                            \\n                                            <li class=\"d-xl-none t-x-block\">\\n                                                <a class=\"erpl_dropdown-menu-item\" href=\"https://www.europarl.europa.eu/plenary/en\">\\n                                                    <span class=\"t-item\">Plenary</span>\\n                                                </a>\\n                                            </li>\\n                                            \\n                                            <li class=\"d-xl-none t-x-block\">\\n                                                <a class=\"erpl_dropdown-menu-item\" href=\"https://www.europarl.europa.eu/committees/en\">\\n                                                    <span class=\"t-item\">Committees</span>\\n                                                </a>\\n                                            </li>\\n                                            \\n                                            <li class=\"d-xl-none t-x-block\">\\n                                                <a class=\"erpl_dropdown-menu-item\" href=\"https://www.europarl.europa.eu/delegations/en\">\\n                                                    <span class=\"t-item\">Delegations</span>\\n                                                </a>\\n                                            </li>\\n                                            \\n                                            <li class=\"d-xl-none t-x-block\">\\n                                                <a class=\"erpl_dropdown-menu-item\" href=\"https://elections.europa.eu/en/\">\\n                                                    <span class=\"t-item\">Elections</span>\\n                                                </a>\\n                                            </li>\\n\\n                                            \\n                                            <li class=\"t-x-block\">\\n                                                <a class=\"erpl_dropdown-menu-item\" href=\"https://multimedia.europarl.europa.eu/en/home\">\\n                                                    <span class=\"t-item\">Multimedia Centre</span>\\n                                                </a>\\n                                            </li>\\n\\n                                            \\n                                            <li class=\"t-x-block\">\\n                                                <a class=\"erpl_dropdown-menu-item\" href=\"https://www.europarl.europa.eu/the-president/en\">\\n                                                    <span class=\"t-item\">Presidency</span>\\n                                                </a>\\n                                            </li>\\n\\n                                            \\n                                            <li class=\"t-x-block\">\\n                                                <a class=\"erpl_dropdown-menu-item\" href=\"https://www.europarl.europa.eu/the-secretary-general/en\">\\n                                                    <span class=\"t-item\">Secretariat-general</span>\\n                                                </a>\\n                                            </li>\\n\\n                                            \\n                                            <li class=\"t-x-block\">\\n                                                <a class=\"erpl_dropdown-menu-item\" href=\"https://www.europarl.europa.eu/thinktank/en\">\\n                                                    <span class=\"t-item\">Thinktank</span>\\n                                                </a>\\n                                            </li>\\n\\n                                            \\n                                            <li class=\"t-x-block\">\\n                                                <a class=\"erpl_dropdown-menu-item\" href=\"https://www.epnewshub.eu\">\\n                                                    <span class=\"t-item\">EP Newshub</span>\\n                                                </a>\\n                                            </li>\\n\\n                                            \\n                                            <li class=\"t-x-block\">\\n                                                <a class=\"erpl_dropdown-menu-item\" href=\"https://www.europarl.europa.eu/at-your-service/en\">\\n                                                    <span class=\"t-item\">At your service</span>\\n                                                </a>\\n                                            </li>\\n\\n                                            \\n                                            <li class=\"t-x-block\">\\n                                                <a class=\"erpl_dropdown-menu-item\" href=\"https://www.europarl.europa.eu/visiting/en\">\\n                                                    <span class=\"t-item\">Visits</span>\\n                                                </a>\\n                                            </li>\\n\\n                                            \\n                                            <li class=\"t-x-block\">\\n                                                <a class=\"erpl_dropdown-menu-item\" href=\"https://www.europarl.europa.eu/legislative-train\">\\n                                                    <span class=\"t-item\">Legislative train</span>\\n                                                </a>\\n                                            </li>\\n\\n                                            \\n                                            <li class=\"t-x-block\">\\n                                                <a class=\"erpl_dropdown-menu-item\" href=\"https://www.europarl.europa.eu/contracts-and-grants/en/\">\\n                                                    <span class=\"t-item\">Contracts and Grants</span>\\n                                                </a>\\n                                            </li>\\n\\n                                            \\n                                            <li class=\"t-x-block\">\\n                                                <a class=\"erpl_dropdown-menu-item\" href=\"https://www.europarl.europa.eu/RegistreWeb/home/welcome.htm?language=en\">\\n                                                    <span class=\"t-item\">Register</span>\\n                                                </a>\\n                                            </li>\\n\\n                                            \\n                                            <li class=\"t-x-block\">\\n                                                <a class=\"erpl_dropdown-menu-item\" href=\"https://data.europarl.europa.eu/en\">\\n                                                    <span class=\"t-item\">Open Data Portal</span>\\n                                                </a>\\n                                            </li>\\n\\n                                            \\n                                            <li class=\"t-x-block\">\\n                                                <a class=\"erpl_dropdown-menu-item\" href=\"https://liaison-offices.europarl.europa.eu/en\">\\n                                                    <span class=\"t-item\">Liaison offices</span>\\n                                                </a>\\n                                            </li>\\n                                        </ul>\\n                                    </div>\\n                                </div>\\n                            </li>\\n                        </ul>\\n                    </nav>\\n                </div>\\n            </div>\\n        </div>\\n    </div>\\n    <div class=\"erpl_header-middle mb-3\">\\n        <div class=\"container\">\\n            <div class=\"row\">\\n                <div class=\"col-12 col-md\">\\n                    <div class=\"erpl_header-website-title a-i\">\\n                        <div class=\"erpl_header-website-title-main\">\\n                            <a href=\"/oeil/en\" class=\"t-x\">\\n                                <span>Legi'\n",
            "\n",
            "[DEBUG] main → 0 procédures retenues après filtre sustainability\n"
          ]
        }
      ]
    },
    {
      "cell_type": "markdown",
      "source": [
        "## Test on date 3-04-2025 beacause we are sure that  sustainability procedures exist"
      ],
      "metadata": {
        "id": "HQ-DOKDRjZdU"
      }
    },
    {
      "cell_type": "code",
      "source": [
        "from datetime import datetime\n",
        "\n",
        "date_cible = datetime(2025, 4, 3)\n",
        "\n",
        "html = fetch_html_for_date(date_cible)\n",
        "\n",
        "items = parse_procedures(html)\n",
        "\n",
        "print(f\"Procedures pour le {date_cible.strftime('%d/%m/%Y')}:\")\n",
        "for it in items:\n",
        "    print(f\"- {it['reference']} | {it['title']} | {it['committee']} | {it['rapporteur']}| {it['description']}\")\n"
      ],
      "metadata": {
        "colab": {
          "base_uri": "https://localhost:8080/"
        },
        "id": "makH_l31g9S7",
        "outputId": "bf822038-506b-4b90-ba65-0f8b75402569"
      },
      "execution_count": 39,
      "outputs": [
        {
          "output_type": "stream",
          "name": "stdout",
          "text": [
            "[DEBUG] fetch_html_for_date → sessionDay.day=20250403\n",
            "[DEBUG]   Status Code: 200\n",
            "[DEBUG]   HTML length: 78088 caractères\n",
            "[DEBUG]   HTML preview:\n",
            "'<!doctype html>\\n<html lang=\"en\">\\n\\n\\n<head>\\n\\n    \\n    <title>Search | Legislative Observatory | European Parliament</title>\\n\\n    <!-- Required meta tags -->\\n    <meta charset=\"utf-8\">\\n    <meta content=\"@project.version@\" name=\"project_version\"/>\\n    <meta content=\"@build.number@\" name=\"build_number\"/>\\n    <meta content=\"@build.time@\" name=\"build_time\"/>\\n\\n    <!-- Commons meta tags -->\\n    <meta content=\"https://www.europarl.europa.eu\">\\n    <meta name=\"viewport\" content=\"width=device-width, initial-scale=1, shrink-to-fit=no\">\\n    <meta content=\"IE=edge\" http-equiv=\"X-UA-Compatible\">\\n    <meta content=\"no-cache\" http-equiv=\"cache-control\">\\n    <meta content=\"-1\" http-equiv=\"expires\">\\n    <meta content=\"no-cache\" http-equiv=\"pragma\">\\n    <meta content=\"text/html; charset=UTF-8\" http-equiv=\"Content-Type\">\\n    <meta content=\"en\" name=\"language\">\\n    <meta content=\"en\" http-equiv=\"Content-Language\">\\n    <meta content=\"European Parliament Legislative Observatory Procedure\" name=\"description\">\\n    <meta content=\"index, follow, noodp, noydir, notranslate, noarchive\" name=\"robots\">\\n    <meta content=\"European Union, 2025 - Source: European Parliament\" name=\"copyright\">\\n    <meta content=\"Legislative Observatory\" name=\"planet\">\\n    <meta content=\"15-05-2025\" name=\"available\">\\n\\n    <!-- Dynamics meta tags -->\\n    \\n        <meta content=\"OEIL, Legislative Observatory, Observatoire législatif\" name=\"keywords\">\\n    \\n\\n    <!-- HTML <link> tags -->\\n    <link rel=\"icon\" href=\"https://www.europarl.europa.eu/commonFrontResources/evostrap/6.2.0//lib/assets/img/favicon.ico\">\\n\\n    \\n    <link href=\"https://www.europarl.europa.eu/commonFrontResources/evostrap/6.2.0//lib/dist/css/evostrap.css\" rel=\"stylesheet\">\\n    <link href=\"https://www.europarl.europa.eu/commonFrontResources/evostrap-oeil/1.0.0//dist/css/oeil.css\" rel=\"stylesheet\">\\n</head>\\n\\n<body id=\"main-content\" data-app-context=\"/oeil/\">\\n\\n    <header class=\"erpl_header\">\\n    <nav class=\"erpl_wai-access\" aria-label=\"Shortcuts\">\\n        <ul>\\n            <li> <a href=\"#website-body\" class=\"erpl_smooth-scroll\"> <span class=\"btn btn-primary\">Access to page content (press &quot;Enter&quot;)</span> </a> </li>\\n            <li> <a href=\"#languageSelectorDropdownButton\" class=\"erpl_smooth-scroll\"> <span class=\"btn btn-primary\">Direct access to language menu (press &quot;Enter&quot;)</span> </a> </li>\\n\\n            <li> <a href=\"#mainSearch\" class=\"erpl_smooth-scroll\"> <span class=\"btn btn-primary\">Direct access to search menu (press &quot;Enter&quot;)</span> </a> </li>\\n        </ul>\\n    </nav>\\n\\n    \\n    <div class=\"erpl_header-top border-bottom mb-3 mb-xl-4 a-i\">\\n        <div class=\"container\">\\n            <div class=\"row no-gutters\">\\n                <div class=\"col-auto\"><div class=\"erpl_header-language-selector\">\\n    <div class=\"erpl_dropdown\" data-auto-close=\"true\" data-auto-focus=\"true\" data-position=\"absolute\"\\n         data-content-width=\"auto\">\\n        <button class=\"erpl_dropdown-btn input-group collapsed\" type=\"button\" data-toggle=\"collapse\"\\n                id=\"languageSelectorDropdownButton\"\\n                data-target=\"#languageSelectorDropdownContent\"\\n                aria-expanded=\"false\"\\n                aria-controls=\"languageSelectorDropdownContent\">\\n            <span class=\"value form-control\">EN - English</span>\\n            \\n            <span class=\"input-group-append\">\\n                <span class=\"input-group-icon\">\\n                    <svg aria-hidden=\"true\" class=\"es_icon es_icon-arrow\" data-show-expanded=\"false\">\\n                        <use xlink:href=\"#es_icon-arrow\"></use>\\n                    </svg>\\n                    <svg aria-hidden=\"true\" class=\"es_icon es_icon-arrow es_icon-flip-y text-primary\"\\n                         data-show-expanded=\"true\">\\n                        <use xlink:href=\"#es_icon-arrow\"></use>\\n                    </svg>\\n                </span>\\n            </span>\\n        </button>\\n\\n        <div>\\n            <div class=\"erpl_dropdown-content collapse\" id=\"languageSelectorDropdownContent\">\\n                <div class=\"border border-light\">\\n                    <div>\\n                        <ul class=\"erpl_topbar-list list-unstyled erpl_dropdown-menu\">\\n                            <li class=\"t-x-block\" data-selected=\"false\">\\n                                <!-- localized version URL is here -->\\n                                <a class=\"erpl_dropdown-menu-item\"\\n                                   lang=\"fr\"\\n                                   href=\"https://oeil.secure.europarl.europa.eu/oeil/fr/search?sessionDay.allDays=false&amp;sessionDay.day=20250403&amp;sessionDay.type=ALL\">\\n                                    \\n                                    <span class=\"t-item\">FR - français</span>\\n                                </a>\\n                            </li>\\n                            <li class=\"t-x-block\" data-selected=\"true\">\\n                                <!-- localized version URL is here -->\\n                                <a class=\"erpl_dropdown-menu-item\"\\n                                   lang=\"en\"\\n                                   href=\"https://oeil.secure.europarl.europa.eu/oeil/en/search?sessionDay.allDays=false&amp;sessionDay.day=20250403&amp;sessionDay.type=ALL\">\\n                                    <span class=\"t-item\">EN - English</span>\\n                                    \\n                                </a>\\n                            </li>\\n                        </ul>\\n                    </div>\\n                </div>\\n            </div>\\n        </div>\\n    </div>\\n</div></div>\\n                <div class=\"col\">\\n                    <nav class=\"erpl_header-other-websites d-flex justify-content-end align-items-center\" aria-label=\"Other websites\">\\n                        <ul class=\"d-flex list-unstyled\">\\n\\n                            \\n                            <li class=\"d-none d-xl-block\">\\n                                <a class=\"d-xl-flex px-1 align-items-center t-y-block\" href=\"https://www.europarl.europa.eu/news/en\">\\n                                    <span class=\"t-item\">News</span>\\n                                </a>\\n                            </li>\\n\\n                            \\n                            <li class=\"d-none d-xl-block\">\\n                                <a class=\"d-xl-flex px-1 align-items-center t-y-block\" href=\"https://www.europarl.europa.eu/topics/en\">\\n                                    <span class=\"t-item\">Topics</span>\\n                                </a>\\n                            </li>\\n\\n                            \\n                            <li class=\"d-none d-xl-block\">\\n                                <a class=\"d-xl-flex px-1 align-items-center t-y-block\" href=\"https://www.europarl.europa.eu/meps/en\">\\n                                    <span class=\"t-item\">MEPs</span>\\n                                </a>\\n                            </li>\\n\\n                            \\n                            <li class=\"d-none d-xl-block\">\\n                                <a class=\"d-xl-flex px-1 align-items-center t-y-block\" href=\"https://www.europarl.europa.eu/about-parliament/en\">\\n                                    <span class=\"t-item\">About Parliament</span>\\n                                </a>\\n                            </li>\\n\\n                            \\n                            <li class=\"d-none d-xl-block\">\\n                                <a class=\"d-xl-flex px-1 align-items-center t-y-block\" href=\"https://www.europarl.europa.eu/plenary/en\">\\n                                    <span class=\"t-item\">Plenary</span>\\n                                </a>\\n                            </li>\\n\\n                            \\n                            <li class=\"d-none d-xl-block\">\\n                                <a class=\"d-xl-flex px-1 align-items-center t-y-block\" href=\"https://www.europarl.europa.eu/committees/en\">\\n                                    <span class=\"t-item\">Committees</span>\\n                                </a>\\n                            </li>\\n\\n                            \\n                            <li class=\"d-none d-xl-block\">\\n                                <a class=\"d-xl-flex px-1 align-items-center t-y-block\" href=\"https://www.europarl.europa.eu/delegations/en\">\\n                                    <span class=\"t-item\">Delegations</span>\\n                                </a>\\n                            </li>\\n\\n                            \\n                            <li class=\"d-none d-xl-block\">\\n                                <a class=\"d-xl-flex px-1 align-items-center t-y-block\" href=\"https://elections.europa.eu/en/\">\\n                                    <span class=\"t-item\">Elections</span>\\n                                </a>\\n                            </li>\\n\\n\\n                            <li class=\"erpl_dropdown\" data-auto-close=\"true\" data-auto-focus=\"true\" data-position=\"absolute\">\\n                               <button class=\"erpl_dropdown-btn input-group collapsed d-xl-flex pl-1 align-items-center t-y-block flex-nowrap\"\\n                                       data-toggle=\"collapse\"\\n                                       data-target=\"#otherWebsiteSubmenu\"\\n                                       aria-expanded=\"false\"\\n                                       aria-controls=\"otherWebsiteSubmenu\" aria-label=\"More other websites\">\\n                                    <span class=\"value\">\\n\\t\\t\\t\\t\\t\\t\\t\\t\\t\\t\\t<span class=\"d-none d-xl-inline\">Other websites</span>\\n\\t\\t\\t\\t\\t\\t\\t\\t\\t\\t\\t<span class=\"d-xl-none\">View other websites</span>\\n                                    </span>\\n                                   <span class=\"input-group-append\">\\n\\t\\t\\t\\t\\t\\t\\t\\t\\t\\t\\t<span class=\"input-group-icon\">\\n\\t\\t\\t\\t\\t\\t\\t\\t\\t\\t\\t\\t<svg aria-hidden=\"true\" class=\"es_icon es_icon-arrow\" data-show-expanded=\"false\">\\n\\t\\t\\t\\t\\t\\t\\t\\t\\t\\t\\t\\t\\t<use xlink:href=\"#es_icon-arrow\"></use>\\n\\t\\t\\t\\t\\t\\t\\t\\t\\t\\t\\t\\t</svg>\\n\\n\\t\\t\\t\\t\\t\\t\\t\\t\\t\\t\\t\\t<svg aria-hidden=\"true\" class=\"es_icon es_icon-arrow es_icon-flip-y text-primary\" data-show-expanded=\"true\">\\n\\t\\t\\t\\t\\t\\t\\t\\t\\t\\t\\t\\t\\t<use xlink:href=\"#es_icon-arrow\"></use>\\n\\t\\t\\t\\t\\t\\t\\t\\t\\t\\t\\t\\t</svg>\\n\\t\\t\\t\\t\\t\\t\\t\\t\\t\\t\\t</span>\\n\\t\\t\\t\\t\\t\\t\\t\\t\\t\\t</span>\\n                                </button>\\n                                <div>\\n                                    <div id=\"otherWebsiteSubmenu\" class=\"erpl_dropdown-content collapse\">\\n                                        <ul class=\"erpl_header-other-websites-submenu list-unstyled erpl_dropdown-menu\">\\n                                            \\n                                            <li class=\"d-xl-none t-x-block\">\\n                                                <a class=\"erpl_dropdown-menu-item\" href=\"https://www.europarl.europa.eu/news/en\">\\n                                                    <span class=\"t-item\">News</span>\\n                                                </a>\\n                                            </li>\\n                                            \\n                                            <li class=\"d-xl-none t-x-block\">\\n                                                <a class=\"erpl_dropdown-menu-item\" href=\"https://www.europarl.europa.eu/topics/en\">\\n                                                    <span class=\"t-item\">Topics</span>\\n                                                </a>\\n                                            </li>\\n                                            \\n                                            <li class=\"d-xl-none t-x-block\">\\n                                                <a class=\"erpl_dropdown-menu-item\" href=\"https://www.europarl.europa.eu/meps/en\">\\n                                                    <span class=\"t-item\">MEPs</span>\\n                                                </a>\\n                                            </li>\\n                                            \\n                                            <li class=\"d-xl-none t-x-block\">\\n                                                <a class=\"erpl_dropdown-menu-item\" href=\"https://www.europarl.europa.eu/about-parliament/en\">\\n                                                    <span class=\"t-item\">About Parliament</span>\\n                                                </a>\\n                                            </li>\\n                                            \\n                                            <li class=\"d-xl-none t-x-block\">\\n                                                <a class=\"erpl_dropdown-menu-item\" href=\"https://www.europarl.europa.eu/plenary/en\">\\n                                                    <span class=\"t-item\">Plenary</span>\\n                                                </a>\\n                                            </li>\\n                                            \\n                                            <li class=\"d-xl-none t-x-block\">\\n                                                <a class=\"erpl_dropdown-menu-item\" href=\"https://www.europarl.europa.eu/committees/en\">\\n                                                    <span class=\"t-item\">Committees</span>\\n                                                </a>\\n                                            </li>\\n                                            \\n                                            <li class=\"d-xl-none t-x-block\">\\n                                                <a class=\"erpl_dropdown-menu-item\" href=\"https://www.europarl.europa.eu/delegations/en\">\\n                                                    <span class=\"t-item\">Delegations</span>\\n                                                </a>\\n                                            </li>\\n                                            \\n                                            <li class=\"d-xl-none t-x-block\">\\n                                                <a class=\"erpl_dropdown-menu-item\" href=\"https://elections.europa.eu/en/\">\\n                                                    <span class=\"t-item\">Elections</span>\\n                                                </a>\\n                                            </li>\\n\\n                                            \\n                                            <li class=\"t-x-block\">\\n                                                <a class=\"erpl_dropdown-menu-item\" href=\"https://multimedia.europarl.europa.eu/en/home\">\\n                                                    <span class=\"t-item\">Multimedia Centre</span>\\n                                                </a>\\n                                            </li>\\n\\n                                            \\n                                            <li class=\"t-x-block\">\\n                                                <a class=\"erpl_dropdown-menu-item\" href=\"https://www.europarl.europa.eu/the-president/en\">\\n                                                    <span class=\"t-item\">Presidency</span>\\n                                                </a>\\n                                            </li>\\n\\n                                            \\n                                            <li class=\"t-x-block\">\\n                                                <a class=\"erpl_dropdown-menu-item\" href=\"https://www.europarl.europa.eu/the-secretary-general/en\">\\n                                                    <span class=\"t-item\">Secretariat-general</span>\\n                                                </a>\\n                                            </li>\\n\\n                                            \\n                                            <li class=\"t-x-block\">\\n                                                <a class=\"erpl_dropdown-menu-item\" href=\"https://www.europarl.europa.eu/thinktank/en\">\\n                                                    <span class=\"t-item\">Thinktank</span>\\n                                                </a>\\n                                            </li>\\n\\n                                            \\n                                            <li class=\"t-x-block\">\\n                                                <a class=\"erpl_dropdown-menu-item\" href=\"https://www.epnewshub.eu\">\\n                                                    <span class=\"t-item\">EP Newshub</span>\\n                                                </a>\\n                                            </li>\\n\\n                                            \\n                                            <li class=\"t-x-block\">\\n                                                <a class=\"erpl_dropdown-menu-item\" href=\"https://www.europarl.europa.eu/at-your-service/en\">\\n                                                    <span class=\"t-item\">At your service</span>\\n                                                </a>\\n                                            </li>\\n\\n                                            \\n                                            <li class=\"t-x-block\">\\n                                                <a class=\"erpl_dropdown-menu-item\" href=\"https://www.europarl.europa.eu/visiting/en\">\\n                                                    <span class=\"t-item\">Visits</span>\\n                                                </a>\\n                                            </li>\\n\\n                                            \\n                                            <li class=\"t-x-block\">\\n                                                <a class=\"erpl_dropdown-menu-item\" href=\"https://www.europarl.europa.eu/legislative-train\">\\n                                                    <span class=\"t-item\">Legislative train</span>\\n                                                </a>\\n                                            </li>\\n\\n                                            \\n                                            <li class=\"t-x-block\">\\n                                                <a class=\"erpl_dropdown-menu-item\" href=\"https://www.europarl.europa.eu/contracts-and-grants/en/\">\\n                                                    <span class=\"t-item\">Contracts and Grants</span>\\n                                                </a>\\n                                            </li>\\n\\n                                            \\n                                            <li class=\"t-x-block\">\\n                                                <a class=\"erpl_dropdown-menu-item\" href=\"https://www.europarl.europa.eu/RegistreWeb/home/welcome.htm?language=en\">\\n                                                    <span class=\"t-item\">Register</span>\\n                                                </a>\\n                                            </li>\\n\\n                                            \\n                                            <li class=\"t-x-block\">\\n                                                <a class=\"erpl_dropdown-menu-item\" href=\"https://data.europarl.europa.eu/en\">\\n                                                    <span class=\"t-item\">Open Data Portal</span>\\n                                                </a>\\n                                            </li>\\n\\n                                            \\n                                            <li class=\"t-x-block\">\\n                                                <a class=\"erpl_dropdown-menu-item\" href=\"https://liaison-offices.europarl.europa.eu/en\">\\n                                                    <span class=\"t-item\">Liaison offices</span>\\n                                                </a>\\n                                            </li>\\n                                        </ul>\\n                                    </div>\\n                                </div>\\n                            </li>\\n                        </ul>\\n                    </nav>\\n                </div>\\n            </div>\\n        </div>\\n    </div>\\n    <div class=\"erpl_header-middle mb-3\">\\n        <div class=\"container\">\\n            <div class=\"row\">\\n                <div class=\"col-12 col-md\">\\n                    <div class=\"erpl_header-website-title a-i\">\\n                        <div class=\"erpl_header-website-title-main\">\\n                            <a href=\"/oeil/en\" class=\"t-x\">\\n                                <span>Legi'\n",
            "\n",
            "Procedures pour le 03/04/2025:\n",
            "- 2025/0044(COD)\n",
            "                    ***ILegal Affairs | 2025/0044(COD)\n",
            "                    ***ILegal Affairs | Legal Affairs | | Certain corporate sustainability reporting and due diligence requirements: application dates\n",
            "- 2024/2111(BUI)Budgets | 2024/2111(BUI)Budgets | Budgets | NEMEC Matjaž (S&D)| 2026 budget: estimates of revenue and expenditure, Section I – European Parliament\n",
            "- 2025/2640(RSP) | 2025/2640(RSP) |  | | Health care related tourism: protecting EU patients abroad\n",
            "- 2025/2639(RSP) | 2025/2639(RSP) |  | | 110th anniversary of the Armenian genocide\n",
            "- 2025/2638(RSP) | 2025/2638(RSP) |  | | Establishment of a European Day of the Righteous\n",
            "- 2025/2637(RSP) | 2025/2637(RSP) |  | | European Action Plan on Rare Diseases\n",
            "- 2025/2629(RSP) | 2025/2629(RSP) |  | | Resolution on the immediate risk of further repression by Lukashenka’s regime in Belarus - threats from the Investigative Committee\n",
            "- 2025/2628(RSP) | 2025/2628(RSP) |  | | Resolution on the execution spree in Iran and the confirmation of the death sentences of activists Behrouz Ehsani and Mehdi Hassani\n",
            "- 2025/2627(RSP) | 2025/2627(RSP) |  | | Resolution on the prosecution of journalists in Cameroon, notably the cases of Amadou Vamoulké, Kingsley Fomunyuy Njoka, Mancho Bibixy, Thomas Awah Junior, Tsi Conrad\n",
            "- 2025/2612(RSP) | 2025/2612(RSP) |  | | Resolution on the targeted attacks against Christians in the Democratic Republic of the Congo: defending religious freedom and security\n",
            "- 2025/2536(RSP)Industry, Research and Energy | 2025/2536(RSP)Industry, Research and Energy | Industry, Research and Energy | GORI Giorgio (S&D)| Resolution on energy-intensive industries\n"
          ]
        }
      ]
    },
    {
      "cell_type": "code",
      "source": [
        " # 2) On applique la classification Gemini\n",
        "sus_items = []\n",
        "for item in items:\n",
        "    if is_sustainable(item):\n",
        "        sus_items.append(item)\n",
        "\n",
        "# 3) Affichage simple pour vérifier\n",
        "print(f\"{len(sus_items)} procédures durables détectées :\")\n",
        "for it in sus_items:\n",
        "    print(f\"– {it['reference']} | {it['title']}| {it['description']}\")\n",
        "\n",
        "\n"
      ],
      "metadata": {
        "colab": {
          "base_uri": "https://localhost:8080/"
        },
        "id": "JEqpxyAbhc2h",
        "outputId": "e4d97e20-9630-4b69-af86-8289fd308473"
      },
      "execution_count": 40,
      "outputs": [
        {
          "output_type": "stream",
          "name": "stdout",
          "text": [
            "2 procédures durables détectées :\n",
            "– 2025/0044(COD)\n",
            "                    ***ILegal Affairs | 2025/0044(COD)\n",
            "                    ***ILegal Affairs| Certain corporate sustainability reporting and due diligence requirements: application dates\n",
            "– 2025/2536(RSP)Industry, Research and Energy | 2025/2536(RSP)Industry, Research and Energy| Resolution on energy-intensive industries\n"
          ]
        }
      ]
    },
    {
      "cell_type": "code",
      "source": [
        "# 4) Stockage dans Google Sheets\n",
        "append_to_sheet(sus_items,date_cible)\n",
        "\n",
        "# 5) Création des Google Tasks\n",
        "create_tasks(sus_items)"
      ],
      "metadata": {
        "id": "rZu4tgQ0r-WR"
      },
      "execution_count": 48,
      "outputs": []
    }
  ]
}